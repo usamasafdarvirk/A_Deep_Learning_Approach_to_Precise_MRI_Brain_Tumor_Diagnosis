{
  "nbformat": 4,
  "nbformat_minor": 0,
  "metadata": {
    "colab": {
      "provenance": [],
      "mount_file_id": "1M8gozZAyK4eyN09UrfmIW-66cu1hywaP",
      "authorship_tag": "ABX9TyPVo5xlr7fIFtYA1mhrQ9ip",
      "include_colab_link": true
    },
    "kernelspec": {
      "name": "python3",
      "display_name": "Python 3"
    },
    "language_info": {
      "name": "python"
    }
  },
  "cells": [
    {
      "cell_type": "markdown",
      "metadata": {
        "id": "view-in-github",
        "colab_type": "text"
      },
      "source": [
        "<a href=\"https://colab.research.google.com/github/usamasafdarvirk/A_Deep_Learning_Approach_to_Precise_MRI_Brain_Tumor_Diagnosis/blob/main/MRI_Image_Classification_Using_Deep_Learning.ipynb\" target=\"_parent\"><img src=\"https://colab.research.google.com/assets/colab-badge.svg\" alt=\"Open In Colab\"/></a>"
      ]
    },
    {
      "cell_type": "markdown",
      "source": [
        "# Importing the Required Libraries"
      ],
      "metadata": {
        "id": "1QbIFacejp0p"
      }
    },
    {
      "cell_type": "code",
      "execution_count": null,
      "metadata": {
        "id": "RejhXRZVVN14"
      },
      "outputs": [],
      "source": [
        "import os               # For Acessing Image Folders\n",
        "from PIL import Image   # Fot Loading Images from Folders"
      ]
    },
    {
      "cell_type": "markdown",
      "source": [
        "# Importing Google Drive"
      ],
      "metadata": {
        "id": "4_4zSkbglc51"
      }
    },
    {
      "cell_type": "code",
      "source": [
        "def load_images_with_labels(image_folder):\n",
        "    \"\"\"\n",
        "    Loads images and their labels from a specified folder, where each subfolder's name\n",
        "    is used as the label for all images within that subfolder.\n",
        "\n",
        "    Parameters:\n",
        "    - image_folder: str. A path to the folder containing subfolders of images.\n",
        "\n",
        "    Returns:\n",
        "    - images: list of PIL.Image objects.\n",
        "    - labels: list of str, each corresponding to the label of the images.\n",
        "    \"\"\"\n",
        "    images = []\n",
        "    labels = []\n",
        "    # Check for valid image extensions\n",
        "    valid_extensions = ('.jpg')\n",
        "\n",
        "    # Loop through all the directories in the image directory\n",
        "    for folder_name in os.listdir(image_folder):\n",
        "        folder_path = os.path.join(image_folder, folder_name)\n",
        "        if os.path.isdir(folder_path):  # Ensure it is a directory\n",
        "            for filename in os.listdir(folder_path):\n",
        "                if filename.endswith(valid_extensions):\n",
        "                    # Full path to the image file\n",
        "                    image_path = os.path.join(folder_path, filename)\n",
        "\n",
        "                    # Load the image from the filesystem\n",
        "                    image = Image.open(image_path)\n",
        "                    image = image.convert('RGB')  # Ensure image is in RGB format\n",
        "\n",
        "                    # The label is the name of the folder\n",
        "                    label = folder_name\n",
        "\n",
        "                    # Append the image and label to the lists\n",
        "                    images.append(image)\n",
        "                    labels.append(label)\n",
        "\n",
        "    return images, labels\n",
        "\n",
        "# Example usage:\n",
        "# Specify the path to your image directory\n",
        "training_folder = '/content/drive/MyDrive/MRI_Brain_Image_Classification/'\n",
        "testing_folder = '/content/drive/MyDrive/MRI_Brain_Image_Classification/'\n",
        "training_images, training_labels = load_images_with_labels(training_folder)\n",
        "testing_images, testing_labels = load_images_with_labels(testing_folder)\n",
        "print(\"Loaded Training \", len(training_images), \"images.\")\n",
        "print(\"Training Labels:\", training_labels)"
      ],
      "metadata": {
        "colab": {
          "base_uri": "https://localhost:8080/"
        },
        "id": "DNLH79vglcSi",
        "outputId": "5dc4a34d-0fee-47e7-a1fd-9be1873ca9cc"
      },
      "execution_count": null,
      "outputs": [
        {
          "output_type": "stream",
          "name": "stdout",
          "text": [
            "Loaded Training  0 images.\n",
            "Training Labels: []\n"
          ]
        }
      ]
    }
  ]
}